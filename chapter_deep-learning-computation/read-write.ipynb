{
 "cells": [
  {
   "cell_type": "markdown",
   "id": "c051b9d4",
   "metadata": {
    "origin_pos": 0
   },
   "source": [
    "# 读写文件\n",
    "\n",
    "到目前为止，我们讨论了如何处理数据，\n",
    "以及如何构建、训练和测试深度学习模型。\n",
    "然而，有时我们希望保存训练的模型，\n",
    "以备将来在各种环境中使用（比如在部署中进行预测）。\n",
    "此外，当运行一个耗时较长的训练过程时，\n",
    "最佳的做法是定期保存中间结果，\n",
    "以确保在服务器电源被不小心断掉时，我们不会损失几天的计算结果。\n",
    "因此，现在是时候学习如何加载和存储权重向量和整个模型了。\n",
    "\n",
    "## (**加载和保存张量**)\n",
    "\n",
    "对于单个张量，我们可以直接调用`load`和`save`函数分别读写它们。\n",
    "这两个函数都要求我们提供一个名称，`save`要求将要保存的变量作为输入。\n"
   ]
  },
  {
   "cell_type": "code",
   "execution_count": 1,
   "id": "7e6b0eed",
   "metadata": {
    "execution": {
     "iopub.execute_input": "2022-12-07T16:57:14.320840Z",
     "iopub.status.busy": "2022-12-07T16:57:14.320234Z",
     "iopub.status.idle": "2022-12-07T16:57:15.480792Z",
     "shell.execute_reply": "2022-12-07T16:57:15.479939Z"
    },
    "origin_pos": 2,
    "tab": [
     "pytorch"
    ]
   },
   "outputs": [],
   "source": [
    "import torch\n",
    "from torch import nn\n",
    "from torch.nn import functional as F\n",
    "\n",
    "x = torch.arange(4)\n",
    "torch.save(x, 'x-file')"
   ]
  },
  {
   "cell_type": "markdown",
   "id": "0d4f0647",
   "metadata": {
    "origin_pos": 5
   },
   "source": [
    "我们现在可以将存储在文件中的数据读回内存。\n"
   ]
  },
  {
   "cell_type": "code",
   "execution_count": 2,
   "id": "a3dc6cc1",
   "metadata": {
    "execution": {
     "iopub.execute_input": "2022-12-07T16:57:15.484795Z",
     "iopub.status.busy": "2022-12-07T16:57:15.484187Z",
     "iopub.status.idle": "2022-12-07T16:57:15.496200Z",
     "shell.execute_reply": "2022-12-07T16:57:15.495423Z"
    },
    "origin_pos": 7,
    "tab": [
     "pytorch"
    ]
   },
   "outputs": [
    {
     "data": {
      "text/plain": [
       "tensor([0, 1, 2, 3])"
      ]
     },
     "execution_count": 2,
     "metadata": {},
     "output_type": "execute_result"
    }
   ],
   "source": [
    "x2 = torch.load('x-file')\n",
    "x2"
   ]
  },
  {
   "cell_type": "markdown",
   "id": "731e471f",
   "metadata": {
    "origin_pos": 10
   },
   "source": [
    "我们可以[**存储一个张量列表，然后把它们读回内存。**]\n"
   ]
  },
  {
   "cell_type": "code",
   "execution_count": 4,
   "id": "816aa5cd",
   "metadata": {
    "execution": {
     "iopub.execute_input": "2022-12-07T16:57:15.499724Z",
     "iopub.status.busy": "2022-12-07T16:57:15.499071Z",
     "iopub.status.idle": "2022-12-07T16:57:15.509309Z",
     "shell.execute_reply": "2022-12-07T16:57:15.508580Z"
    },
    "origin_pos": 12,
    "tab": [
     "pytorch"
    ]
   },
   "outputs": [
    {
     "data": {
      "text/plain": [
       "(tensor([0, 1, 2, 3]), tensor([0., 0., 0., 0.]))"
      ]
     },
     "execution_count": 4,
     "metadata": {},
     "output_type": "execute_result"
    }
   ],
   "source": [
    "y = torch.zeros(4)\n",
    "torch.save([x, y],'x-files')\n",
    "x2, y2 = torch.load('x-files')\n",
    "(x2, y2)"
   ]
  },
  {
   "cell_type": "markdown",
   "id": "d41437ae",
   "metadata": {
    "origin_pos": 15
   },
   "source": [
    "我们甚至可以(**写入或读取从字符串映射到张量的字典**)。\n",
    "当我们要读取或写入模型中的所有权重时，这很方便。\n"
   ]
  },
  {
   "cell_type": "code",
   "execution_count": 5,
   "id": "fa201bf7",
   "metadata": {
    "execution": {
     "iopub.execute_input": "2022-12-07T16:57:15.512722Z",
     "iopub.status.busy": "2022-12-07T16:57:15.512205Z",
     "iopub.status.idle": "2022-12-07T16:57:15.519128Z",
     "shell.execute_reply": "2022-12-07T16:57:15.518294Z"
    },
    "origin_pos": 17,
    "tab": [
     "pytorch"
    ]
   },
   "outputs": [
    {
     "data": {
      "text/plain": [
       "{'x': tensor([0, 1, 2, 3]), 'y': tensor([0., 0., 0., 0.])}"
      ]
     },
     "execution_count": 5,
     "metadata": {},
     "output_type": "execute_result"
    }
   ],
   "source": [
    "mydict = {'x': x, 'y': y}\n",
    "torch.save(mydict, 'mydict')\n",
    "mydict2 = torch.load('mydict')\n",
    "mydict2"
   ]
  },
  {
   "cell_type": "markdown",
   "id": "1b23a493",
   "metadata": {
    "origin_pos": 20
   },
   "source": [
    "## [**加载和保存模型参数**]\n",
    "\n",
    "保存单个权重向量（或其他张量）确实有用，\n",
    "但是如果我们想保存整个模型，并在以后加载它们，\n",
    "单独保存每个向量则会变得很麻烦。\n",
    "毕竟，我们可能有数百个参数散布在各处。\n",
    "因此，深度学习框架提供了内置函数来保存和加载整个网络。\n",
    "需要注意的一个重要细节是，这将保存模型的参数而不是保存整个模型。\n",
    "例如，如果我们有一个3层多层感知机，我们需要单独指定架构。\n",
    "因为模型本身可以包含任意代码，所以模型本身难以序列化。\n",
    "因此，为了恢复模型，我们需要用代码生成架构，\n",
    "然后从磁盘加载参数。\n",
    "让我们从熟悉的多层感知机开始尝试一下。\n"
   ]
  },
  {
   "cell_type": "code",
   "execution_count": 7,
   "id": "7ca27a1b",
   "metadata": {
    "execution": {
     "iopub.execute_input": "2022-12-07T16:57:15.522400Z",
     "iopub.status.busy": "2022-12-07T16:57:15.521895Z",
     "iopub.status.idle": "2022-12-07T16:57:15.528483Z",
     "shell.execute_reply": "2022-12-07T16:57:15.527720Z"
    },
    "origin_pos": 22,
    "tab": [
     "pytorch"
    ]
   },
   "outputs": [
    {
     "data": {
      "text/plain": [
       "tensor([[-1.3799e-02, -2.2681e-01,  2.4635e-02,  2.5676e-01,  1.6967e-02,\n",
       "         -3.2020e-01,  1.8720e-01, -1.4981e-01,  2.0646e-01,  5.8234e-01],\n",
       "        [-1.1464e-01, -2.8470e-01,  3.0176e-01,  2.4347e-01,  5.3878e-02,\n",
       "         -4.8039e-02,  2.0300e-01, -1.4909e-01,  1.0628e-04,  7.7289e-02]],\n",
       "       grad_fn=<AddmmBackward0>)"
      ]
     },
     "execution_count": 7,
     "metadata": {},
     "output_type": "execute_result"
    }
   ],
   "source": [
    "class MLP(nn.Module):\n",
    "    def __init__(self):\n",
    "        super().__init__()\n",
    "        self.hidden = nn.Linear(20, 256)\n",
    "        self.output = nn.Linear(256, 10)\n",
    "\n",
    "    def forward(self, x):\n",
    "        return self.output(F.relu(self.hidden(x)))\n",
    "\n",
    "net = MLP()\n",
    "X = torch.randn(size=(2, 20))\n",
    "Y = net(X)\n",
    "Y"
   ]
  },
  {
   "cell_type": "markdown",
   "id": "3f6d6c38",
   "metadata": {
    "origin_pos": 25
   },
   "source": [
    "接下来，我们[**将模型的参数存储在一个叫做“mlp.params”的文件中。**]\n"
   ]
  },
  {
   "cell_type": "code",
   "execution_count": 11,
   "id": "bcd5a02a",
   "metadata": {},
   "outputs": [
    {
     "data": {
      "text/plain": [
       "OrderedDict([('hidden.weight',\n",
       "              tensor([[ 0.1974,  0.2057, -0.1059,  ...,  0.1550, -0.1260, -0.0007],\n",
       "                      [ 0.0739, -0.1655,  0.0877,  ..., -0.0037, -0.0576, -0.0483],\n",
       "                      [ 0.1288, -0.0945,  0.1319,  ..., -0.0476,  0.1565, -0.0498],\n",
       "                      ...,\n",
       "                      [ 0.0200,  0.1328,  0.0226,  ...,  0.1560, -0.2205, -0.1801],\n",
       "                      [ 0.0173, -0.1629, -0.0026,  ..., -0.1978, -0.1258,  0.1929],\n",
       "                      [-0.0726, -0.1875, -0.1614,  ..., -0.0486, -0.0634, -0.0774]])),\n",
       "             ('hidden.bias',\n",
       "              tensor([ 0.2025, -0.0208,  0.0491, -0.0325, -0.0805,  0.0501,  0.0871,  0.1777,\n",
       "                       0.1661, -0.1444,  0.1432,  0.0905, -0.0041, -0.0280,  0.1106, -0.1613,\n",
       "                      -0.1553, -0.1118,  0.1158, -0.1752,  0.0963, -0.1790,  0.1303,  0.2159,\n",
       "                      -0.0652,  0.1692, -0.2143, -0.0416,  0.1385, -0.1762, -0.1628,  0.0946,\n",
       "                      -0.1410,  0.0191,  0.0756, -0.0775,  0.1410,  0.1631, -0.2147,  0.0772,\n",
       "                      -0.0032,  0.0659,  0.1888,  0.0302,  0.0483, -0.1989, -0.0010, -0.1706,\n",
       "                      -0.1187,  0.1979, -0.1403,  0.0676, -0.0466,  0.0129,  0.2072,  0.0598,\n",
       "                      -0.1364, -0.1530, -0.0942,  0.1405, -0.1072, -0.1577,  0.1183, -0.0960,\n",
       "                       0.1200, -0.0146, -0.0505, -0.0805, -0.1521,  0.1612, -0.1987,  0.0137,\n",
       "                       0.0758,  0.0769,  0.1076,  0.1666,  0.0163, -0.1200, -0.1722, -0.0698,\n",
       "                       0.0868, -0.0759,  0.0743, -0.1502, -0.1246,  0.0970,  0.0531,  0.0056,\n",
       "                       0.1397,  0.1814,  0.1945, -0.0044,  0.0919,  0.0481, -0.1895, -0.1929,\n",
       "                      -0.0573, -0.0286,  0.0413, -0.0944, -0.0960, -0.1909,  0.0738,  0.1258,\n",
       "                       0.2013,  0.2128, -0.0358, -0.1686,  0.0611,  0.0851,  0.1600,  0.1708,\n",
       "                      -0.0583, -0.0444, -0.1845, -0.0888,  0.1756, -0.0616, -0.1522,  0.1705,\n",
       "                      -0.0194, -0.0419, -0.0597, -0.0690,  0.0156, -0.2012,  0.1950,  0.0117,\n",
       "                       0.2079, -0.1228, -0.1612,  0.1375,  0.1855, -0.1820,  0.0506, -0.1568,\n",
       "                       0.1696, -0.1783,  0.0873, -0.0646, -0.0229,  0.0416,  0.2191, -0.1364,\n",
       "                      -0.1069, -0.0041, -0.1674,  0.1544,  0.1232,  0.0487,  0.1984, -0.2145,\n",
       "                       0.1844, -0.2186,  0.0523, -0.0283, -0.1750,  0.1638, -0.0491,  0.2028,\n",
       "                       0.0879, -0.1767,  0.0739,  0.1457,  0.0747, -0.1525, -0.1268,  0.0592,\n",
       "                       0.1281, -0.0613, -0.0122, -0.2051, -0.0721, -0.1939, -0.2169,  0.0925,\n",
       "                      -0.0457,  0.1372,  0.0272,  0.1657, -0.2041,  0.0456,  0.1663, -0.0958,\n",
       "                       0.2221, -0.1688,  0.0278, -0.1402,  0.2071,  0.1018,  0.2201,  0.0438,\n",
       "                      -0.1140,  0.0512, -0.1534,  0.1188, -0.1443, -0.0131, -0.1962, -0.0564,\n",
       "                       0.2061, -0.1157,  0.0818,  0.1697, -0.1637, -0.0065, -0.0504,  0.2153,\n",
       "                      -0.1081, -0.1313,  0.2152, -0.0885,  0.2204, -0.0360, -0.0031, -0.1974,\n",
       "                       0.1777,  0.0990, -0.0533,  0.0840,  0.0800, -0.1732,  0.0718,  0.1186,\n",
       "                       0.1402, -0.0904,  0.0290,  0.0160, -0.0136,  0.0320,  0.1253,  0.1527,\n",
       "                      -0.1545, -0.1006,  0.0328, -0.0957,  0.0299,  0.1924, -0.0092, -0.0409,\n",
       "                       0.0303, -0.0505,  0.0569, -0.1324,  0.0119,  0.0609,  0.1515, -0.2099,\n",
       "                      -0.0491,  0.1705,  0.0393,  0.0323,  0.1472,  0.0147,  0.0651, -0.2021])),\n",
       "             ('output.weight',\n",
       "              tensor([[-0.0481,  0.0086,  0.0605,  ...,  0.0349, -0.0368,  0.0292],\n",
       "                      [ 0.0225,  0.0480, -0.0375,  ...,  0.0528, -0.0309, -0.0146],\n",
       "                      [-0.0455, -0.0309, -0.0187,  ...,  0.0353,  0.0065, -0.0601],\n",
       "                      ...,\n",
       "                      [-0.0177, -0.0504, -0.0510,  ..., -0.0350,  0.0312,  0.0528],\n",
       "                      [-0.0525,  0.0032,  0.0392,  ...,  0.0018, -0.0257,  0.0576],\n",
       "                      [ 0.0526,  0.0157,  0.0115,  ..., -0.0114,  0.0116,  0.0060]])),\n",
       "             ('output.bias',\n",
       "              tensor([-0.0098,  0.0390,  0.0602,  0.0533, -0.0002,  0.0156, -0.0087,  0.0030,\n",
       "                       0.0246,  0.0493]))])"
      ]
     },
     "execution_count": 11,
     "metadata": {},
     "output_type": "execute_result"
    }
   ],
   "source": [
    "net.state_dict()"
   ]
  },
  {
   "cell_type": "code",
   "execution_count": 8,
   "id": "970045b3",
   "metadata": {
    "execution": {
     "iopub.execute_input": "2022-12-07T16:57:15.531616Z",
     "iopub.status.busy": "2022-12-07T16:57:15.531209Z",
     "iopub.status.idle": "2022-12-07T16:57:15.535898Z",
     "shell.execute_reply": "2022-12-07T16:57:15.535152Z"
    },
    "origin_pos": 27,
    "tab": [
     "pytorch"
    ]
   },
   "outputs": [],
   "source": [
    "torch.save(net.state_dict(), 'mlp.params')"
   ]
  },
  {
   "cell_type": "markdown",
   "id": "70324442",
   "metadata": {
    "origin_pos": 30
   },
   "source": [
    "为了恢复模型，我们[**实例化了原始多层感知机模型的一个备份。**]\n",
    "这里我们不需要随机初始化模型参数，而是(**直接读取文件中存储的参数。**)\n"
   ]
  },
  {
   "cell_type": "code",
   "execution_count": 9,
   "id": "90e3ee76",
   "metadata": {
    "execution": {
     "iopub.execute_input": "2022-12-07T16:57:15.539128Z",
     "iopub.status.busy": "2022-12-07T16:57:15.538719Z",
     "iopub.status.idle": "2022-12-07T16:57:15.545525Z",
     "shell.execute_reply": "2022-12-07T16:57:15.544793Z"
    },
    "origin_pos": 32,
    "tab": [
     "pytorch"
    ]
   },
   "outputs": [
    {
     "data": {
      "text/plain": [
       "MLP(\n",
       "  (hidden): Linear(in_features=20, out_features=256, bias=True)\n",
       "  (output): Linear(in_features=256, out_features=10, bias=True)\n",
       ")"
      ]
     },
     "execution_count": 9,
     "metadata": {},
     "output_type": "execute_result"
    }
   ],
   "source": [
    "clone = MLP()\n",
    "clone.load_state_dict(torch.load('mlp.params'))\n",
    "clone.eval()"
   ]
  },
  {
   "cell_type": "markdown",
   "id": "debe75e6",
   "metadata": {
    "origin_pos": 35
   },
   "source": [
    "由于两个实例具有相同的模型参数，在输入相同的`X`时，\n",
    "两个实例的计算结果应该相同。\n",
    "让我们来验证一下。\n"
   ]
  },
  {
   "cell_type": "code",
   "execution_count": 12,
   "id": "e2c4d08d",
   "metadata": {
    "execution": {
     "iopub.execute_input": "2022-12-07T16:57:15.549346Z",
     "iopub.status.busy": "2022-12-07T16:57:15.548468Z",
     "iopub.status.idle": "2022-12-07T16:57:15.555963Z",
     "shell.execute_reply": "2022-12-07T16:57:15.555173Z"
    },
    "origin_pos": 37,
    "tab": [
     "pytorch"
    ]
   },
   "outputs": [
    {
     "data": {
      "text/plain": [
       "tensor([[True, True, True, True, True, True, True, True, True, True],\n",
       "        [True, True, True, True, True, True, True, True, True, True]])"
      ]
     },
     "execution_count": 12,
     "metadata": {},
     "output_type": "execute_result"
    }
   ],
   "source": [
    "Y_clone = clone(X)\n",
    "Y_clone == Y"
   ]
  },
  {
   "cell_type": "markdown",
   "id": "5c2a18cb",
   "metadata": {
    "origin_pos": 39
   },
   "source": [
    "## 小结\n",
    "\n",
    "* `save`和`load`函数可用于张量对象的文件读写。\n",
    "* 我们可以通过参数字典保存和加载网络的全部参数。\n",
    "* 保存架构必须在代码中完成，而不是在参数中完成。\n",
    "\n",
    "## 练习\n",
    "\n",
    "1. 即使不需要将经过训练的模型部署到不同的设备上，存储模型参数还有什么实际的好处？\n",
    "1. 假设我们只想复用网络的一部分，以将其合并到不同的网络架构中。比如想在一个新的网络中使用之前网络的前两层，该怎么做？\n",
    "1. 如何同时保存网络架构和参数？需要对架构加上什么限制？\n"
   ]
  },
  {
   "cell_type": "markdown",
   "id": "d0edd9a9",
   "metadata": {
    "origin_pos": 41,
    "tab": [
     "pytorch"
    ]
   },
   "source": [
    "[Discussions](https://discuss.d2l.ai/t/1839)\n"
   ]
  }
 ],
 "metadata": {
  "kernelspec": {
   "display_name": "d2l",
   "language": "python",
   "name": "python3"
  },
  "language_info": {
   "codemirror_mode": {
    "name": "ipython",
    "version": 3
   },
   "file_extension": ".py",
   "mimetype": "text/x-python",
   "name": "python",
   "nbconvert_exporter": "python",
   "pygments_lexer": "ipython3",
   "version": "3.9.17"
  }
 },
 "nbformat": 4,
 "nbformat_minor": 5
}
